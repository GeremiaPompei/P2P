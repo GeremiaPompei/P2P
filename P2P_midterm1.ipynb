{
  "nbformat": 4,
  "nbformat_minor": 0,
  "metadata": {
    "colab": {
      "name": "P2P_midterm1.ipynb",
      "provenance": [],
      "collapsed_sections": [],
      "authorship_tag": "ABX9TyOTl/T1deljpV1+boj84r8S",
      "include_colab_link": true
    },
    "kernelspec": {
      "name": "python3",
      "display_name": "Python 3"
    },
    "language_info": {
      "name": "python"
    }
  },
  "cells": [
    {
      "cell_type": "markdown",
      "metadata": {
        "id": "view-in-github",
        "colab_type": "text"
      },
      "source": [
        "<a href=\"https://colab.research.google.com/github/GeremiaPompei/P2P/blob/main/P2P_midterm1.ipynb\" target=\"_parent\"><img src=\"https://colab.research.google.com/assets/colab-badge.svg\" alt=\"Open In Colab\"/></a>"
      ]
    },
    {
      "cell_type": "markdown",
      "source": [
        "# P2P & Blockchain [Midterm 1] - Pompei Geremia (MAT. 638432)"
      ],
      "metadata": {
        "id": "ZrsoiEfvE8sP"
      }
    },
    {
      "cell_type": "markdown",
      "source": [
        "## First Part - Analysis of Bitcoin Transactions"
      ],
      "metadata": {
        "id": "bkS5Zlu4FrjF"
      }
    },
    {
      "cell_type": "markdown",
      "source": [
        "### Code initialization"
      ],
      "metadata": {
        "id": "XhZ3n0IIxExK"
      }
    },
    {
      "cell_type": "markdown",
      "source": [
        "Here are imported all libraries used in the project and is downloaded the dataset mounted in a local directory"
      ],
      "metadata": {
        "id": "x6HNu0cBtdHh"
      }
    },
    {
      "cell_type": "code",
      "source": [
        "from google.colab import drive\n",
        "import matplotlib.pyplot as plt\n",
        "import networkx as nx\n",
        "\n",
        "drive.mount('/content/drive/')"
      ],
      "metadata": {
        "colab": {
          "base_uri": "https://localhost:8080/"
        },
        "id": "i442DVFNtYgy",
        "outputId": "5670f950-7134-4347-d87a-74e2ea1226b7"
      },
      "execution_count": 1,
      "outputs": [
        {
          "output_type": "stream",
          "name": "stdout",
          "text": [
            "Drive already mounted at /content/drive/; to attempt to forcibly remount, call drive.mount(\"/content/drive/\", force_remount=True).\n"
          ]
        }
      ]
    },
    {
      "cell_type": "markdown",
      "source": [
        "### 1) Describe how a real Bitcoin transaction is abstracted by a transaction in the dataset (which fields are eliminated, which are abstracted and how)"
      ],
      "metadata": {
        "id": "1FU8lsxTFyGP"
      }
    },
    {
      "cell_type": "markdown",
      "source": [
        "Fields abstracted:\n",
        "\n",
        "  - **hash**: transaction hash in our dataset is represented by transaction id\n",
        "  - **in**: array containing the input transactions represented by:\n",
        "    - **prev_out**: json with 2 fields that are **hash** of the previous transaction and the **n** number of the output used here as input (in this dataset this field is abstracted by the field *outpud_id*)\n",
        "    - **sigSig**: signature used to spend the output of previous transaction (in this dataset we have only an integer id corresponding to the address. This is the same of the corresponding *pk_id*)\n",
        "  - **out**: array containing the output transactions represented by:\n",
        "    - **value**: value that is transferred in output (not abstracted)\n",
        "    - **scriptPubKey**: contains the address where previous value is transferred (in this dataset we have only an integer id corresponding to the address. This is the same of the corresponding *sig_id*)\n",
        "  \n",
        "  Here inputs and outputs are represented in another csv file and we are able to link them with the corresponding transaction using ids.\n",
        "\n",
        "Fields eliminated:\n",
        "- **ver**: version of bitcoin protocol\n",
        "- **vin_sz**: number of input transaction\n",
        "- **vout_sz**: number of output transaction\n",
        "- **lock_time**: earliest time that a transaction can be added to the blockchain (0 signify immediate execution). This represents the period of time before that this transaction is added inside the blockchain"
      ],
      "metadata": {
        "id": "SPbTwZq6GWzn"
      }
    },
    {
      "cell_type": "markdown",
      "source": [
        "### 2) Check if all the data contained in the dataset is consistent, and if some data is invalid, describe what is the problem of that data and remove it from the dataset"
      ],
      "metadata": {
        "id": "pmbqq3YWGYHb"
      }
    },
    {
      "cell_type": "markdown",
      "source": [
        "Here all the files that represents the dataset are imported and are transformed in a more structured way"
      ],
      "metadata": {
        "id": "gt0X5wiHwJ5_"
      }
    },
    {
      "cell_type": "code",
      "execution_count": 2,
      "metadata": {
        "id": "UVcZue6wCK53"
      },
      "outputs": [],
      "source": [
        "def extract_dict_from_csv(path, keys):\n",
        "    text = open(f\"drive/MyDrive/Colab Notebooks/colab_fs/P2P_midterm1/{path}.csv\", \"r\").read()\n",
        "    res = {}\n",
        "    for row in text.split(\"\\n\"):\n",
        "        tokens = row.split(\",\")\n",
        "        if len(tokens) > 1:\n",
        "            obj = dict([(keys[i], int(tokens[i])) for i in range(len(keys))])\n",
        "            res[obj[keys[0]]] = obj\n",
        "    return res\n",
        "\n",
        "inputs = extract_dict_from_csv(\"inputs\", [\"id\", \"tx_id\", \"sig_id\", \"output_id\"])\n",
        "outputs = extract_dict_from_csv(\"outputs\", [\"id\", \"tx_id\", \"pk_id\", \"value\"])\n",
        "txs = extract_dict_from_csv(\"transactions\", [\"id\", \"block_id\"])"
      ]
    },
    {
      "cell_type": "markdown",
      "source": [
        "#### 1. Check id relation consistency\n",
        "Each input with a *tx_id* not in the transaction list and each output with a *tx_id* not in the transaction list are discarded"
      ],
      "metadata": {
        "id": "LJ25jFW16Tnq"
      }
    },
    {
      "cell_type": "code",
      "source": [
        "tx_to_delete = []\n",
        "\n",
        "for key, i in list(inputs.items()):\n",
        "  if i[\"tx_id\"] not in txs:\n",
        "    print(i)\n",
        "    del inputs[key]\n",
        "\n",
        "for key, o in list(outputs.items()):\n",
        "  if o[\"tx_id\"] not in txs:\n",
        "    print(o)\n",
        "    del outputs[key]\n",
        "    tx_to_delete.append(o[\"tx_id\"])"
      ],
      "metadata": {
        "id": "0jPFQm9w2JeF"
      },
      "execution_count": 3,
      "outputs": []
    },
    {
      "cell_type": "markdown",
      "source": [
        "#### 2. Input-output relation consistency\n",
        "With the following code each input with *output_id* not in the output list is discarded"
      ],
      "metadata": {
        "id": "qGsBLL9T803Z"
      }
    },
    {
      "cell_type": "code",
      "source": [
        "for key, i in list(inputs.items()):\n",
        "  if i[\"output_id\"] != -1 and i[\"output_id\"] not in outputs:\n",
        "    print(i)\n",
        "    del inputs[key]\n",
        "    tx_to_delete.append(i[\"tx_id\"])"
      ],
      "metadata": {
        "colab": {
          "base_uri": "https://localhost:8080/"
        },
        "id": "ifwHhj6J8hqd",
        "outputId": "58b2c4ff-e438-4435-99df-1ded98325f52"
      },
      "execution_count": 4,
      "outputs": [
        {
          "output_type": "stream",
          "name": "stdout",
          "text": [
            "{'id': 16461, 'tx_id': 15698, 'sig_id': 109902, 'output_id': 265834}\n"
          ]
        }
      ]
    },
    {
      "cell_type": "markdown",
      "source": [
        "#### 3. Check signature consistency\n",
        "Each input with invalid signature (in this case *sig_id* different from *pk_id*) is discarded. *pk_id* and *sk_id* should be equal or both non-standard (less than 0)"
      ],
      "metadata": {
        "id": "T-XZFrKc9xzP"
      }
    },
    {
      "cell_type": "code",
      "source": [
        "for key, i in list(inputs.items()):\n",
        "  if i[\"output_id\"] != -1:\n",
        "    sig_id = i[\"sig_id\"]\n",
        "    pk_id = outputs[i[\"output_id\"]][\"pk_id\"]\n",
        "    if (sig_id > 0 and pk_id > 0 and pk_id != sig_id) or (sig_id < 0 and pk_id < 0):\n",
        "      print(i, \"=> \", sig_id, \"!=\", pk_id)\n",
        "      del inputs[key]\n",
        "      tx_to_delete.append(i[\"tx_id\"])"
      ],
      "metadata": {
        "colab": {
          "base_uri": "https://localhost:8080/"
        },
        "id": "49D_O5aG8ha-",
        "outputId": "f8696e97-5ac5-4c3b-bfbd-cb306fb195f8"
      },
      "execution_count": 5,
      "outputs": [
        {
          "output_type": "stream",
          "name": "stdout",
          "text": [
            "{'id': 194075, 'tx_id': 138278, 'sig_id': 139250, 'output_id': 16121} =>  139250 != 16020\n"
          ]
        }
      ]
    },
    {
      "cell_type": "markdown",
      "source": [
        "#### 4. Check if all values are positive\n",
        "Check if the output value is positive for each transaction"
      ],
      "metadata": {
        "id": "-jST4NAZgqEo"
      }
    },
    {
      "cell_type": "code",
      "source": [
        "for key, o in list(outputs.items()):\n",
        "  if o[\"value\"] < 0:\n",
        "    print(o)\n",
        "    del outputs[key]\n",
        "    tx_to_delete.append(i[\"tx_id\"])"
      ],
      "metadata": {
        "colab": {
          "base_uri": "https://localhost:8080/"
        },
        "id": "5RJpwXKUgprn",
        "outputId": "e870cc2b-2b3e-414a-dc0f-640f5da9e9c8"
      },
      "execution_count": 6,
      "outputs": [
        {
          "output_type": "stream",
          "name": "stdout",
          "text": [
            "{'id': 123672, 'tx_id': 105281, 'pk_id': 155098, 'value': -5000000000}\n"
          ]
        }
      ]
    },
    {
      "cell_type": "markdown",
      "source": [
        "#### 5. Check more reward\n",
        "If a miner get more rewards in input these inputs becomes one"
      ],
      "metadata": {
        "id": "qWtiud6JWE23"
      }
    },
    {
      "cell_type": "code",
      "source": [
        "single_rewards = set()\n",
        "\n",
        "for i in list(inputs.values()):\n",
        "  if i[\"output_id\"] == -1:\n",
        "    if i[\"tx_id\"] in single_rewards:\n",
        "        print(txs[i[\"tx_id\"]])\n",
        "        del inputs[i[\"id\"]]\n",
        "        tx_to_delete.append(i[\"tx_id\"])\n",
        "    single_rewards.add(i[\"tx_id\"])"
      ],
      "metadata": {
        "id": "rz9X3ZwMVnm-"
      },
      "execution_count": 7,
      "outputs": []
    },
    {
      "cell_type": "markdown",
      "source": [
        "#### 6. Check double spending\n",
        "If there are more than one input used to spend a transaction from the same output there is an episode of double speding. With the following lines of code are detected all the double spending and fixed\n"
      ],
      "metadata": {
        "id": "bTBi5d258sFS"
      }
    },
    {
      "cell_type": "code",
      "source": [
        "single_output = set()\n",
        "\n",
        "for i in list(inputs.values()):\n",
        "    if i[\"output_id\"] != -1:\n",
        "        if i[\"output_id\"] in single_output:\n",
        "            print(outputs[i[\"output_id\"]])\n",
        "            del inputs[i[\"id\"]]\n",
        "            tx_to_delete.append(i[\"tx_id\"])\n",
        "        single_output.add(i[\"output_id\"])"
      ],
      "metadata": {
        "colab": {
          "base_uri": "https://localhost:8080/"
        },
        "id": "1WpQQtDK-cmP",
        "outputId": "b729453a-98e3-480e-b63a-56906250a785"
      },
      "execution_count": 8,
      "outputs": [
        {
          "output_type": "stream",
          "name": "stdout",
          "text": [
            "{'id': 7998, 'tx_id': 7971, 'pk_id': 7941, 'value': 5000000000}\n",
            "{'id': 21928, 'tx_id': 21878, 'pk_id': 21807, 'value': 5000000000}\n",
            "{'id': 65403, 'tx_id': 61842, 'pk_id': 138980, 'value': 5000000000}\n",
            "{'id': 249860, 'tx_id': 207362, 'pk_id': 163625, 'value': 41381000000}\n"
          ]
        }
      ]
    },
    {
      "cell_type": "markdown",
      "source": [
        "Now inputs and outputs are included their own transaction dictionaries and outputs include a pointer to their own input ids. It's also added the fee attribute inside each transaction"
      ],
      "metadata": {
        "id": "2bgQa7gmG-nP"
      }
    },
    {
      "cell_type": "code",
      "source": [
        "for i in inputs.values():\n",
        "  if i[\"output_id\"] > -1:\n",
        "    outputs[i[\"output_id\"]][\"input_id\"] = i[\"id\"]\n",
        "for o in outputs.values():\n",
        "  if \"input_id\" not in o:\n",
        "    o[\"input_id\"] = -1\n",
        "\n",
        "for tx in txs.values():\n",
        "  tx[\"in\"] = []\n",
        "  tx[\"out\"] = []\n",
        "\n",
        "for i in inputs.values():\n",
        "  if i[\"tx_id\"] in txs:\n",
        "    txs[i[\"tx_id\"]][\"in\"].append(i)\n",
        "\n",
        "for o in outputs.values():\n",
        "  if o[\"tx_id\"] in txs:\n",
        "    txs[o[\"tx_id\"]][\"out\"].append(o)\n",
        "\n",
        "miner_reward = 5000000000 # satoshi == 50 bitcoin\n",
        "\n",
        "for tx in txs.values():\n",
        "  coinbase = False\n",
        "  fee = 0\n",
        "  for i in tx[\"in\"]:\n",
        "    if i[\"output_id\"] == -1:\n",
        "      coinbase = True\n",
        "      break\n",
        "    else:\n",
        "      fee += outputs[i[\"output_id\"]][\"value\"]\n",
        "  for o in tx[\"out\"]:\n",
        "    fee -= o[\"value\"]\n",
        "  tx[\"fee\"] = 0 if coinbase else fee"
      ],
      "metadata": {
        "id": "0fLwwp_jG-LG"
      },
      "execution_count": 9,
      "outputs": []
    },
    {
      "cell_type": "markdown",
      "source": [
        "The following lines are able to clean the dataset removing all inconsistent data"
      ],
      "metadata": {
        "id": "vyI7IQ2Nvmtx"
      }
    },
    {
      "cell_type": "code",
      "source": [
        "def delete_tx_in(tx_id):\n",
        "  if tx_id in txs:\n",
        "    tx = txs[tx_id]\n",
        "    for i in tx[\"in\"]:\n",
        "      if i[\"output_id\"] in outputs:\n",
        "        delete_tx_in(outputs[i[\"output_id\"]][\"tx_id\"])\n",
        "      del inputs[i[\"id\"]]\n",
        "    del txs[tx[\"id\"]]\n",
        "\n",
        "def delete_tx_out(tx_id):\n",
        "  if tx_id in txs:\n",
        "    tx = txs[tx_id]\n",
        "    for o in tx[\"out\"]:\n",
        "      if o[\"input_id\"] in inputs:\n",
        "        delete_tx_out(inputs[o[\"input_id\"]][\"tx_id\"])\n",
        "      del outputs[o[\"id\"]]\n",
        "    del txs[tx[\"id\"]]\n",
        "\n",
        "def delete_tx(tx_id):\n",
        "  delete_tx_in(tx_id)\n",
        "  delete_tx_out(tx_id)\n",
        "\n",
        "for tx_id in tx_to_delete:\n",
        "  delete_tx(tx_id);\n",
        "tx_to_delete = []"
      ],
      "metadata": {
        "id": "UTRGBAUZKhG0"
      },
      "execution_count": 10,
      "outputs": []
    },
    {
      "cell_type": "markdown",
      "source": [
        "### 3) Compute the total amount of UTXOs (Unspent Transaction Outputs) existing as of the last block of the data set, i.e. the sum of all the Transaction outputs balances on the UTXO set of the last block. Which UTXO (TxId, blockId, output index and address) has the highest asso- ciated value?"
      ],
      "metadata": {
        "id": "H8iSUuIBGk6a"
      }
    },
    {
      "cell_type": "markdown",
      "source": [
        "In the following code the output of each transaction is scanned to take the one that is not spent and has the highest value. Then is returned a dictionary that reports info related to:\n",
        "- TxId: id of the transaction where there is the selected output\n",
        "- blockId: id of the block, stored in the blockchain, where the transaction is\n",
        "- output_index: id of the output of the transaction used to send the amount\n",
        "- address: address of the account that can provide the signature to spend the value inside this transaction output"
      ],
      "metadata": {
        "id": "Y0W61POdnedr"
      }
    },
    {
      "cell_type": "code",
      "source": [
        "UTXO = None\n",
        "max_value = 0\n",
        "\n",
        "txs_values = list(txs.values())\n",
        "txs_values.reverse()\n",
        "\n",
        "output_spent = set({i[\"output_id\"] for i in inputs.values() if i[\"output_id\"] > 0})\n",
        "\n",
        "for tx in txs_values:\n",
        "  for o in tx[\"out\"]:\n",
        "    if o[\"id\"] not in output_spent:\n",
        "      if o[\"value\"] > max_value:\n",
        "        max_value = o[\"value\"]\n",
        "        UTXO = {\n",
        "          \"TxId\": tx[\"id\"],\n",
        "          \"blockId\": tx[\"block_id\"],\n",
        "          \"output_index\": o[\"id\"],\n",
        "          \"account\": o[\"pk_id\"],\n",
        "        }\n",
        "\n",
        "print(UTXO, \"=>\", max_value)"
      ],
      "metadata": {
        "colab": {
          "base_uri": "https://localhost:8080/"
        },
        "id": "MVnLwXM_atWk",
        "outputId": "d0a593c9-12d7-4afd-be1e-5a19820f2e6e"
      },
      "execution_count": 11,
      "outputs": [
        {
          "output_type": "stream",
          "name": "stdout",
          "text": [
            "{'TxId': 140479, 'blockId': 90532, 'output_index': 170430, 'account': 138895} => 9000000000000\n"
          ]
        }
      ]
    },
    {
      "cell_type": "markdown",
      "source": [
        "### 4) Compute the following statistics\n",
        "1. the distribution of the block occupancy, i.e. of the number of transactions in each block in the entire period of time. Furthermore, show the evolution in time of the block size, by considering a time step of one month.\n",
        "2. the total amount of bitcoin received from each public key that has received at least one COINBASE transaction, in the considered period, and show a distribution of the values\n",
        "3. the distribution of the fees spent in each transaction in the considered period."
      ],
      "metadata": {
        "id": "BBi9tu4XGtES"
      }
    },
    {
      "cell_type": "markdown",
      "source": [
        "With the following code is built a dictionary that simulates the blockchain structure. Each item is a link between \"block_id\" and the list of transactions contained in this block"
      ],
      "metadata": {
        "id": "tCxz3BcwoJgP"
      }
    },
    {
      "cell_type": "code",
      "source": [
        "blockchain = {}\n",
        "for tx in txs.values():\n",
        "  if tx[\"block_id\"] in blockchain:\n",
        "    blockchain[tx[\"block_id\"]].append(tx)\n",
        "  else:\n",
        "    blockchain[tx[\"block_id\"]] = [tx]"
      ],
      "metadata": {
        "id": "zdIhEbuhoOoU"
      },
      "execution_count": 12,
      "outputs": []
    },
    {
      "cell_type": "markdown",
      "source": [
        "Here the month labels are setted"
      ],
      "metadata": {
        "id": "1kTq5LvC4oWM"
      }
    },
    {
      "cell_type": "code",
      "source": [
        "months = (\n",
        "    \"Gen-2009\", \"Feb-2009\", \"Mar-2009\", \"Apr-2009\", \"May-2009\", \"Jun-2009\", \n",
        "    \"Jul-2009\", \"Ago-2009\", \"Sep-2009\", \"Oct-2009\", \"Nov-2009\", \"Dec-2009\", \n",
        "    \"Gen-2010\", \"Feb-2010\", \"Mar-2010\", \"Apr-2010\", \"May-2010\", \"Jun-2010\", \n",
        "    \"Jul-2010\", \"Ago-2010\",\"Sep-2010\", \"Oct-2010\", \"Nov-2010\", \"Dec-2010\", \n",
        ")"
      ],
      "metadata": {
        "id": "eqBJM11j4a7M"
      },
      "execution_count": 13,
      "outputs": []
    },
    {
      "cell_type": "markdown",
      "source": [
        "1. Now all the block sizes for each block are taken and is computed the mean of the block sizes in a month for each month. In the end is shown the plot with the ditribution of averages of block sizes in 24 months"
      ],
      "metadata": {
        "id": "1x8SPRUs1Ihz"
      }
    },
    {
      "cell_type": "code",
      "source": [
        "cs = len(blockchain) // len(months)\n",
        "block_sizes = [len(block) for block in blockchain.values()]\n",
        "\n",
        "c_block_sizes = []\n",
        "for i in range(len(months)):\n",
        "  blocks_one_month = block_sizes[i*cs:(i+cs)*cs-1]\n",
        "  average = sum(blocks_one_month) / len(blocks_one_month)\n",
        "  c_block_sizes.append(average)\n",
        "\n",
        "plt.bar(months, c_block_sizes, align='center')\n",
        "plt.xlabel('month')\n",
        "plt.ylabel('block size average')\n",
        "plt.xticks(rotation='vertical')\n",
        "plt.show()"
      ],
      "metadata": {
        "colab": {
          "base_uri": "https://localhost:8080/",
          "height": 319
        },
        "id": "pju5FyJhq7T6",
        "outputId": "b3e3c652-cd25-4699-b0d8-a338b6aa6e33"
      },
      "execution_count": 14,
      "outputs": [
        {
          "output_type": "display_data",
          "data": {
            "text/plain": [
              "<Figure size 432x288 with 1 Axes>"
            ],
            "image/png": "[encoded data removed]"
          },
          "metadata": {
            "needs_background": "light"
          }
        }
      ]
    },
    {
      "cell_type": "markdown",
      "source": [
        "2. First it is taken all transactions (in each block of blockchain) with in input one coinbase transaction and then it is computed the sum of the miner reward for each block and it is calculated the mean of values gained by miners in one month for each month. In the end everything is shown in a plot (this is zoommed with respect to y axis)"
      ],
      "metadata": {
        "id": "1Ct1q3X3kfVF"
      }
    },
    {
      "cell_type": "code",
      "source": [
        "cs = len(blockchain) // len(months)\n",
        "sum_tx_value = [\n",
        "  sum([\n",
        "        sum(list(map(lambda x:x[\"value\"], tx[\"out\"]))) \n",
        "        for tx in block \n",
        "        if tx[\"in\"][0][\"output_id\"] == -1\n",
        "  ]) \n",
        "  for block in blockchain.values()\n",
        "]\n",
        "\n",
        "c_sum_tx_value = []\n",
        "for i in range(len(months)):\n",
        "  blocks_one_month = sum_tx_value[i*cs:(i+cs)*cs-1]\n",
        "  average = sum(blocks_one_month) / len(blocks_one_month)\n",
        "  c_sum_tx_value.append(average)\n",
        "\n",
        "plt.bar(months, c_sum_tx_value, align='center')\n",
        "plt.xlabel('month')\n",
        "plt.ylabel('transaction coinbase value avg')\n",
        "plt.xticks(rotation='vertical')\n",
        "plt.ylim(min(c_sum_tx_value), max(c_sum_tx_value))\n",
        "plt.show()"
      ],
      "metadata": {
        "colab": {
          "base_uri": "https://localhost:8080/",
          "height": 330
        },
        "id": "FL6JfzTW4WhI",
        "outputId": "74bb6959-8a64-4ecc-f22c-ec711e505142"
      },
      "execution_count": 15,
      "outputs": [
        {
          "output_type": "display_data",
          "data": {
            "text/plain": [
              "<Figure size 432x288 with 1 Axes>"
            ],
            "image/png": "[encoded data removed]"
          },
          "metadata": {
            "needs_background": "light"
          }
        }
      ]
    },
    {
      "cell_type": "markdown",
      "source": [
        "3. Here the sum of each transaction fee inside blocks are taken. These values, corresponding to each block, are ditributed in months and for each group of values in a single month is computed the average"
      ],
      "metadata": {
        "id": "LQMZH90Yvkaw"
      }
    },
    {
      "cell_type": "code",
      "source": [
        "cs = len(blockchain) // len(months)\n",
        "sum_tx_value = [sum([tx[\"fee\"] for tx in block]) for block in blockchain.values()]\n",
        "\n",
        "c_sum_tx_value = []\n",
        "for i in range(len(months)):\n",
        "  blocks_one_month = sum_tx_value[i*cs:(i+cs)*cs-1]\n",
        "  average = sum(blocks_one_month) / len(blocks_one_month)\n",
        "  c_sum_tx_value.append(average)\n",
        "\n",
        "plt.bar(months, c_sum_tx_value, align='center')\n",
        "plt.xlabel('month')\n",
        "plt.ylabel('fee average')\n",
        "plt.xticks(rotation='vertical')\n",
        "plt.show()"
      ],
      "metadata": {
        "colab": {
          "base_uri": "https://localhost:8080/",
          "height": 319
        },
        "id": "vHq1FNZhvj-Z",
        "outputId": "582574d5-46bd-4484-ff71-831157bc7913"
      },
      "execution_count": 16,
      "outputs": [
        {
          "output_type": "display_data",
          "data": {
            "text/plain": [
              "<Figure size 432x288 with 1 Axes>"
            ],
            "image/png": "[encoded data removed]"
          },
          "metadata": {
            "needs_background": "light"
          }
        }
      ]
    },
    {
      "cell_type": "markdown",
      "source": [
        "### 5) Propose one further analysis of your choice. Give a brief description of the analysis and report the results"
      ],
      "metadata": {
        "id": "mgNdXI9WG67u"
      }
    },
    {
      "cell_type": "markdown",
      "source": [
        "Here there is a function useful to extract a list of transaction that are able to compose a chain of connected transactions"
      ],
      "metadata": {
        "id": "uswnZbCD4oxP"
      }
    },
    {
      "cell_type": "code",
      "source": [
        "def walk_tx_chain(origin_tx, max_depth=10):\n",
        "  tx_list = [origin_tx]\n",
        "  i = 1\n",
        "  for tx in tx_list:\n",
        "    for i in tx[\"in\"]:\n",
        "      if i[\"output_id\"] != -1:\n",
        "        to_add = txs[outputs[i[\"output_id\"]][\"tx_id\"]]\n",
        "        if to_add not in tx_list:\n",
        "          tx_list.append(to_add)\n",
        "    for o in tx[\"out\"]:\n",
        "      if o[\"input_id\"] != -1:\n",
        "        to_add = txs[inputs[o[\"input_id\"]][\"tx_id\"]]\n",
        "        if to_add not in tx_list:\n",
        "          tx_list.append(to_add)\n",
        "    if len(tx_list) > max_depth:\n",
        "      break\n",
        "  return tx_list"
      ],
      "metadata": {
        "id": "mOVwmOJrlBFH"
      },
      "execution_count": 17,
      "outputs": []
    },
    {
      "cell_type": "markdown",
      "source": [
        "With this lines of code is plotted one example of chain of transactions. In this case is searched the chain of transaction 10 and are extracted connected transactions with depth 4. The plot represents the graph of extracted transactions and the connections among them"
      ],
      "metadata": {
        "id": "CGs-OmQQ96nJ"
      }
    },
    {
      "cell_type": "code",
      "source": [
        "G = nx.DiGraph()\n",
        "for tx in walk_tx_chain(txs[10], 4):\n",
        "  G.add_node(tx[\"id\"])\n",
        "  for i in tx[\"in\"]:\n",
        "    if i[\"output_id\"] != -1:\n",
        "      G.add_edge(outputs[i[\"output_id\"]][\"tx_id\"], tx[\"id\"])\n",
        "  for o in tx[\"out\"]:\n",
        "    if o[\"input_id\"] != -1:\n",
        "      G.add_edge(tx[\"id\"], inputs[o[\"input_id\"]][\"tx_id\"])\n",
        "nx.draw(G, with_labels=True)\n",
        "plt.show()"
      ],
      "metadata": {
        "colab": {
          "base_uri": "https://localhost:8080/",
          "height": 319
        },
        "id": "g_I5_ashfUHq",
        "outputId": "b4c23bb8-bfe5-435c-e187-32e1056223c7"
      },
      "execution_count": 18,
      "outputs": [
        {
          "output_type": "display_data",
          "data": {
            "text/plain": [
              "<Figure size 432x288 with 1 Axes>"
            ],
            "image/png": "[encoded data removed]"
          },
          "metadata": {}
        }
      ]
    },
    {
      "cell_type": "markdown",
      "source": [
        "## Second Part - DHT Assessment"
      ],
      "metadata": {
        "id": "7qETpkGYGDIf"
      }
    },
    {
      "cell_type": "markdown",
      "source": [
        "### Code initialization"
      ],
      "metadata": {
        "id": "_9R203QMCy_y"
      }
    },
    {
      "cell_type": "markdown",
      "source": [
        "Here there are the constants related to my node id and the max number of addresses conntained in a bucket (k)"
      ],
      "metadata": {
        "id": "En71NSWrDDPP"
      }
    },
    {
      "cell_type": "code",
      "source": [
        "my_node = \"11001010\"\n",
        "k = 4"
      ],
      "metadata": {
        "id": "OwpEGHIdDGQW"
      },
      "execution_count": 19,
      "outputs": []
    },
    {
      "cell_type": "markdown",
      "source": [
        "Function able tu create a dictionary that represents the initial state of buckets inside my hash table"
      ],
      "metadata": {
        "id": "rNjwLZz-Dl39"
      }
    },
    {
      "cell_type": "code",
      "source": [
        "def buckets_init():\n",
        "  return {\n",
        "      \"11001011\": [],\n",
        "      \"1100100\": [],\n",
        "      \"110011\": [],\n",
        "      \"11000\": [\"11000111\"],\n",
        "      \"1101\": [\"11010011\", \"11010110\"],\n",
        "      \"111\": [\"11101010\", \"11101110\", \"11100011\", \"11110000\"],\n",
        "      \"10\": [\"10110011\", \"10111000\", \"10001000\"],\n",
        "      \"0\": [\"01001111\", \"00110011\", \"01010101\", \"00000010\"],\n",
        "  }"
      ],
      "metadata": {
        "id": "IkXAHEkqDFFW"
      },
      "execution_count": 20,
      "outputs": []
    },
    {
      "cell_type": "markdown",
      "source": [
        "Function to add into buckets a node and print what happen for each condition triggered"
      ],
      "metadata": {
        "id": "MuWsCbyUDyu5"
      }
    },
    {
      "cell_type": "code",
      "source": [
        "def add_into_buckets(node, buckets, dead_nodes=[]):\n",
        "  for key, bucket in buckets.items():\n",
        "    if node.startswith(key):\n",
        "      print(f\"\\t> node {node} start with {key}\")\n",
        "      if node in bucket:\n",
        "        print(f\"\\t> {node} is already in the bucket {key}\")\n",
        "        bucket.append(bucket.pop(bucket.index(node)))\n",
        "      else:\n",
        "        if len(bucket) < k:\n",
        "          print(f\"\\t> {node} is inserted into bucket {key}\")\n",
        "          bucket.append(node)\n",
        "        else:\n",
        "          print(f\"\\t> bucket {key} is full\")\n",
        "          for i in range(4):\n",
        "            n = bucket[0]\n",
        "            alive = n not in dead_nodes\n",
        "            print(\"\\t\\t> ping\", n, \"=>\", \"ALIVE\" if alive else \"DEAD\")\n",
        "            if not alive:\n",
        "              bucket.remove(n)\n",
        "              bucket.append(node)\n",
        "              break\n",
        "            else:\n",
        "              bucket.append(bucket.pop(bucket.index(n)))"
      ],
      "metadata": {
        "id": "6JerIQshvUwq"
      },
      "execution_count": 21,
      "outputs": []
    },
    {
      "cell_type": "markdown",
      "source": [
        "Function able to run a simulation that is an insertion of new nodes inside my hash table"
      ],
      "metadata": {
        "id": "kpRPhrv3EO7j"
      }
    },
    {
      "cell_type": "code",
      "source": [
        "def print_ht(buckets):\n",
        "  print(\"----------------------------------------------------------------\")\n",
        "  print(\"HASH TABLE\")\n",
        "  for k, v in buckets.items():\n",
        "    print(k.rjust(8, \" \"), \":\", v)\n",
        "  print(\"----------------------------------------------------------------\")\n",
        "\n",
        "\n",
        "def run_simulation(new_nodes, dead_nodes=[]):\n",
        "  buckets = buckets_init()\n",
        "  print_ht(buckets)\n",
        "  for i, node in enumerate(new_nodes):\n",
        "    print(f\"{i+1}) START node:\", node)\n",
        "    add_into_buckets(node, buckets, dead_nodes)\n",
        "    print_ht(buckets)"
      ],
      "metadata": {
        "id": "7z-t7vE7D1cq"
      },
      "execution_count": 22,
      "outputs": []
    },
    {
      "cell_type": "markdown",
      "source": [
        "### 1) Messages from following nodes arrive in this given order: 01101001, 10111000, 11110001, 10101010, 11100011, 11111111 How do the buck- ets, the orderings in the buckets and the waiting lists change?"
      ],
      "metadata": {
        "id": "S91ymI66HGLq"
      }
    },
    {
      "cell_type": "markdown",
      "source": [
        "With the following code is implemented a simulator of what happen during the insertion of the new nodes. Here we have all nodes inside hash table that are active, so in case a new node should be inserted inside a full bucket this is discarded. In the other cases if a node is already inside a bucket is moved in the tail of this, instead if the bucket is not full the new node is appended to the end of bucket"
      ],
      "metadata": {
        "id": "8_Y9sfEQErry"
      }
    },
    {
      "cell_type": "code",
      "source": [
        "new_nodes = [\"01101001\", \"10111000\", \"11110001\", \"10101010\", \"11100011\", \"11111111\"]\n",
        "\n",
        "run_simulation(new_nodes)"
      ],
      "metadata": {
        "colab": {
          "base_uri": "https://localhost:8080/"
        },
        "id": "9GzoVTrAiIBW",
        "outputId": "fc09dbc5-104b-46c4-df6f-576e1e63c650"
      },
      "execution_count": 23,
      "outputs": [
        {
          "output_type": "stream",
          "name": "stdout",
          "text": [
            "----------------------------------------------------------------\n",
            "HASH TABLE\n",
            "11001011 : []\n",
            " 1100100 : []\n",
            "  110011 : []\n",
            "   11000 : ['11000111']\n",
            "    1101 : ['11010011', '11010110']\n",
            "     111 : ['11101010', '11101110', '11100011', '11110000']\n",
            "      10 : ['10110011', '10111000', '10001000']\n",
            "       0 : ['01001111', '00110011', '01010101', '00000010']\n",
            "----------------------------------------------------------------\n",
            "1) START node: 01101001\n",
            "\t> node 01101001 start with 0\n",
            "\t> bucket 0 is full\n",
            "\t\t> ping 01001111 => ALIVE\n",
            "\t\t> ping 00110011 => ALIVE\n",
            "\t\t> ping 01010101 => ALIVE\n",
            "\t\t> ping 00000010 => ALIVE\n",
            "----------------------------------------------------------------\n",
            "HASH TABLE\n",
            "11001011 : []\n",
            " 1100100 : []\n",
            "  110011 : []\n",
            "   11000 : ['11000111']\n",
            "    1101 : ['11010011', '11010110']\n",
            "     111 : ['11101010', '11101110', '11100011', '11110000']\n",
            "      10 : ['10110011', '10111000', '10001000']\n",
            "       0 : ['01001111', '00110011', '01010101', '00000010']\n",
            "----------------------------------------------------------------\n",
            "2) START node: 10111000\n",
            "\t> node 10111000 start with 10\n",
            "\t> 10111000 is already in the bucket 10\n",
            "----------------------------------------------------------------\n",
            "HASH TABLE\n",
            "11001011 : []\n",
            " 1100100 : []\n",
            "  110011 : []\n",
            "   11000 : ['11000111']\n",
            "    1101 : ['11010011', '11010110']\n",
            "     111 : ['11101010', '11101110', '11100011', '11110000']\n",
            "      10 : ['10110011', '10001000', '10111000']\n",
            "       0 : ['01001111', '00110011', '01010101', '00000010']\n",
            "----------------------------------------------------------------\n",
            "3) START node: 11110001\n",
            "\t> node 11110001 start with 111\n",
            "\t> bucket 111 is full\n",
            "\t\t> ping 11101010 => ALIVE\n",
            "\t\t> ping 11101110 => ALIVE\n",
            "\t\t> ping 11100011 => ALIVE\n",
            "\t\t> ping 11110000 => ALIVE\n",
            "----------------------------------------------------------------\n",
            "HASH TABLE\n",
            "11001011 : []\n",
            " 1100100 : []\n",
            "  110011 : []\n",
            "   11000 : ['11000111']\n",
            "    1101 : ['11010011', '11010110']\n",
            "     111 : ['11101010', '11101110', '11100011', '11110000']\n",
            "      10 : ['10110011', '10001000', '10111000']\n",
            "       0 : ['01001111', '00110011', '01010101', '00000010']\n",
            "----------------------------------------------------------------\n",
            "4) START node: 10101010\n",
            "\t> node 10101010 start with 10\n",
            "\t> 10101010 is inserted into bucket 10\n",
            "----------------------------------------------------------------\n",
            "HASH TABLE\n",
            "11001011 : []\n",
            " 1100100 : []\n",
            "  110011 : []\n",
            "   11000 : ['11000111']\n",
            "    1101 : ['11010011', '11010110']\n",
            "     111 : ['11101010', '11101110', '11100011', '11110000']\n",
            "      10 : ['10110011', '10001000', '10111000', '10101010']\n",
            "       0 : ['01001111', '00110011', '01010101', '00000010']\n",
            "----------------------------------------------------------------\n",
            "5) START node: 11100011\n",
            "\t> node 11100011 start with 111\n",
            "\t> 11100011 is already in the bucket 111\n",
            "----------------------------------------------------------------\n",
            "HASH TABLE\n",
            "11001011 : []\n",
            " 1100100 : []\n",
            "  110011 : []\n",
            "   11000 : ['11000111']\n",
            "    1101 : ['11010011', '11010110']\n",
            "     111 : ['11101010', '11101110', '11110000', '11100011']\n",
            "      10 : ['10110011', '10001000', '10111000', '10101010']\n",
            "       0 : ['01001111', '00110011', '01010101', '00000010']\n",
            "----------------------------------------------------------------\n",
            "6) START node: 11111111\n",
            "\t> node 11111111 start with 111\n",
            "\t> bucket 111 is full\n",
            "\t\t> ping 11101010 => ALIVE\n",
            "\t\t> ping 11101110 => ALIVE\n",
            "\t\t> ping 11110000 => ALIVE\n",
            "\t\t> ping 11100011 => ALIVE\n",
            "----------------------------------------------------------------\n",
            "HASH TABLE\n",
            "11001011 : []\n",
            " 1100100 : []\n",
            "  110011 : []\n",
            "   11000 : ['11000111']\n",
            "    1101 : ['11010011', '11010110']\n",
            "     111 : ['11101010', '11101110', '11110000', '11100011']\n",
            "      10 : ['10110011', '10001000', '10111000', '10101010']\n",
            "       0 : ['01001111', '00110011', '01010101', '00000010']\n",
            "----------------------------------------------------------------\n"
          ]
        }
      ]
    },
    {
      "cell_type": "markdown",
      "source": [
        "### 2) Now the node detects that peer 11101110 cannot be reached anymore, what is the reaction?"
      ],
      "metadata": {
        "id": "xYbi9HlZHJDZ"
      }
    },
    {
      "cell_type": "markdown",
      "source": [
        "Here is runned the previous simulation adding the indicated dead node. In this case if a new node is inserted inside the bucket where the dead node is and this bucket is full the dead node is discarded and the new node is appended to the end of the bucket. Each time that a node is pinged (to discover if this is still alive or not) when the reponse is positive the node is moved to the end of the bucket"
      ],
      "metadata": {
        "id": "tUlaFiUBF2U6"
      }
    },
    {
      "cell_type": "code",
      "source": [
        "run_simulation(new_nodes, dead_nodes=[\"11101110\"])"
      ],
      "metadata": {
        "colab": {
          "base_uri": "https://localhost:8080/"
        },
        "id": "K4g-i1FFwDC-",
        "outputId": "2908a20a-1a94-4b33-df9a-ffdfa9bfb9e9"
      },
      "execution_count": 24,
      "outputs": [
        {
          "output_type": "stream",
          "name": "stdout",
          "text": [
            "----------------------------------------------------------------\n",
            "HASH TABLE\n",
            "11001011 : []\n",
            " 1100100 : []\n",
            "  110011 : []\n",
            "   11000 : ['11000111']\n",
            "    1101 : ['11010011', '11010110']\n",
            "     111 : ['11101010', '11101110', '11100011', '11110000']\n",
            "      10 : ['10110011', '10111000', '10001000']\n",
            "       0 : ['01001111', '00110011', '01010101', '00000010']\n",
            "----------------------------------------------------------------\n",
            "1) START node: 01101001\n",
            "\t> node 01101001 start with 0\n",
            "\t> bucket 0 is full\n",
            "\t\t> ping 01001111 => ALIVE\n",
            "\t\t> ping 00110011 => ALIVE\n",
            "\t\t> ping 01010101 => ALIVE\n",
            "\t\t> ping 00000010 => ALIVE\n",
            "----------------------------------------------------------------\n",
            "HASH TABLE\n",
            "11001011 : []\n",
            " 1100100 : []\n",
            "  110011 : []\n",
            "   11000 : ['11000111']\n",
            "    1101 : ['11010011', '11010110']\n",
            "     111 : ['11101010', '11101110', '11100011', '11110000']\n",
            "      10 : ['10110011', '10111000', '10001000']\n",
            "       0 : ['01001111', '00110011', '01010101', '00000010']\n",
            "----------------------------------------------------------------\n",
            "2) START node: 10111000\n",
            "\t> node 10111000 start with 10\n",
            "\t> 10111000 is already in the bucket 10\n",
            "----------------------------------------------------------------\n",
            "HASH TABLE\n",
            "11001011 : []\n",
            " 1100100 : []\n",
            "  110011 : []\n",
            "   11000 : ['11000111']\n",
            "    1101 : ['11010011', '11010110']\n",
            "     111 : ['11101010', '11101110', '11100011', '11110000']\n",
            "      10 : ['10110011', '10001000', '10111000']\n",
            "       0 : ['01001111', '00110011', '01010101', '00000010']\n",
            "----------------------------------------------------------------\n",
            "3) START node: 11110001\n",
            "\t> node 11110001 start with 111\n",
            "\t> bucket 111 is full\n",
            "\t\t> ping 11101010 => ALIVE\n",
            "\t\t> ping 11101110 => DEAD\n",
            "----------------------------------------------------------------\n",
            "HASH TABLE\n",
            "11001011 : []\n",
            " 1100100 : []\n",
            "  110011 : []\n",
            "   11000 : ['11000111']\n",
            "    1101 : ['11010011', '11010110']\n",
            "     111 : ['11100011', '11110000', '11101010', '11110001']\n",
            "      10 : ['10110011', '10001000', '10111000']\n",
            "       0 : ['01001111', '00110011', '01010101', '00000010']\n",
            "----------------------------------------------------------------\n",
            "4) START node: 10101010\n",
            "\t> node 10101010 start with 10\n",
            "\t> 10101010 is inserted into bucket 10\n",
            "----------------------------------------------------------------\n",
            "HASH TABLE\n",
            "11001011 : []\n",
            " 1100100 : []\n",
            "  110011 : []\n",
            "   11000 : ['11000111']\n",
            "    1101 : ['11010011', '11010110']\n",
            "     111 : ['11100011', '11110000', '11101010', '11110001']\n",
            "      10 : ['10110011', '10001000', '10111000', '10101010']\n",
            "       0 : ['01001111', '00110011', '01010101', '00000010']\n",
            "----------------------------------------------------------------\n",
            "5) START node: 11100011\n",
            "\t> node 11100011 start with 111\n",
            "\t> 11100011 is already in the bucket 111\n",
            "----------------------------------------------------------------\n",
            "HASH TABLE\n",
            "11001011 : []\n",
            " 1100100 : []\n",
            "  110011 : []\n",
            "   11000 : ['11000111']\n",
            "    1101 : ['11010011', '11010110']\n",
            "     111 : ['11110000', '11101010', '11110001', '11100011']\n",
            "      10 : ['10110011', '10001000', '10111000', '10101010']\n",
            "       0 : ['01001111', '00110011', '01010101', '00000010']\n",
            "----------------------------------------------------------------\n",
            "6) START node: 11111111\n",
            "\t> node 11111111 start with 111\n",
            "\t> bucket 111 is full\n",
            "\t\t> ping 11110000 => ALIVE\n",
            "\t\t> ping 11101010 => ALIVE\n",
            "\t\t> ping 11110001 => ALIVE\n",
            "\t\t> ping 11100011 => ALIVE\n",
            "----------------------------------------------------------------\n",
            "HASH TABLE\n",
            "11001011 : []\n",
            " 1100100 : []\n",
            "  110011 : []\n",
            "   11000 : ['11000111']\n",
            "    1101 : ['11010011', '11010110']\n",
            "     111 : ['11110000', '11101010', '11110001', '11100011']\n",
            "      10 : ['10110011', '10001000', '10111000', '10101010']\n",
            "       0 : ['01001111', '00110011', '01010101', '00000010']\n",
            "----------------------------------------------------------------\n"
          ]
        }
      ]
    },
    {
      "cell_type": "markdown",
      "source": [
        "### 3) Which addresses would the peer reply to a lookup looking for ID 11010010?"
      ],
      "metadata": {
        "id": "4at585pyHM1v"
      }
    },
    {
      "cell_type": "markdown",
      "source": [
        "The algorithm is able to responde to the sender with the result wanted or with the addresses contained in the k-buckets near to the solution. In this case my node hasn't the value searched so it provides to the sender the list of addresses in the hash table with the same common prefix of the id of the searched resource.This code implementation is a simplifying that exploits the string prefix to search the corresponding bucket"
      ],
      "metadata": {
        "id": "uspcuB5EG3la"
      }
    },
    {
      "cell_type": "code",
      "source": [
        "id = \"11010010\"\n",
        "buckets = buckets_init()\n",
        "selected_addresses = []\n",
        "\n",
        "for key, bucket in buckets.items():\n",
        "  if id.startswith(key):\n",
        "    selected_addresses = bucket\n",
        "    break\n",
        "\n",
        "print(selected_addresses)"
      ],
      "metadata": {
        "colab": {
          "base_uri": "https://localhost:8080/"
        },
        "id": "azMdgTDewQwG",
        "outputId": "31b2c185-4850-49ea-bfb6-a8ff5569f508"
      },
      "execution_count": 25,
      "outputs": [
        {
          "output_type": "stream",
          "name": "stdout",
          "text": [
            "['11010011', '11010110']\n"
          ]
        }
      ]
    }
  ]
}